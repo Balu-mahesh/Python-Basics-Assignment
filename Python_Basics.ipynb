{
  "nbformat": 4,
  "nbformat_minor": 0,
  "metadata": {
    "colab": {
      "provenance": []
    },
    "kernelspec": {
      "name": "python3",
      "display_name": "Python 3"
    },
    "language_info": {
      "name": "python"
    }
  },
  "cells": [
    {
      "cell_type": "markdown",
      "source": [
        "# **PYTHON BASICS ASSIGNMENT**"
      ],
      "metadata": {
        "id": "PybHnnfE9TON"
      }
    },
    {
      "cell_type": "markdown",
      "source": [
        "# Python Basics Theoretical Questions"
      ],
      "metadata": {
        "id": "Tkt50S2X9Qxg"
      }
    },
    {
      "cell_type": "markdown",
      "source": [
        "Q1) What is Python, and why is it popular?\n",
        "  - Python is a high-level, interpreted programming language known for its simplicity, readability and versatality. It was created by Guido Van Rossum and first released in 1991. Python is widely used in web applications, software development, data science, and machine learning. Most developers use Python because its efficient and easy to learn and can run on many different platforms.\n",
        "  \n",
        " **Python is popular because of the following reasons:**\n",
        " - Easy to learn and use: Python has a very clean and readable syntax that closely resembles with plain english. Unlike other languages like C++ or Java, Python doesn't require standardized code. This makes developers to be more productive because they can write a python program in fewer lines as compared to many other languages.\n",
        " - Extensive Libraries and Frameworks: Python comes with a rich set of standard libraries and has access to thousand of third-party packages that simplify coding for various tasks. These libraries are pre-written code that help you perform complex functions without writing everything from scatch.\n",
        " - Various uses in different domains: Python is not limited to one specific area. Python can be used in many fields like web development, data science and analytics, automation, finance, game development, education, healthcare etc.\n",
        " - Strong Community Support: Python has a massive global community. The presence of a large and active community provides a wealth of resources, tutorials, and documentation to aspiring coders. Python has open source nature that allows developers to contribute to the development.\n",
        " - Platform independent: Python runs on multiple platforms with little or no modification to the code. This means we can write a python program and can run it on different systems without changing the code significantly. A Python script for data analysis written on Windows machine will work well on Linux or Mac, as long as python is installed."
      ],
      "metadata": {
        "id": "0bVBppTgLloK"
      }
    },
    {
      "cell_type": "markdown",
      "source": [
        "Q2) What is an interpreter in Python?\n",
        "  - An Interpreter in Python is a program that reads and executes the program code line by line, converting it into machine-level instructions that computer can understand. Unlike a compiler, which translates the entire program at once, an interpreter translates and runs code one instruction at a time. Interpreter allows for immediate feedback and testing, which is great for learning and debugging. By using an Interpreter, errors can be identified during the runtime and it also tell us about the line of code where there is some error. It takes less time to execute the program as compared to compiler.The Interpreter can also be used interactively, allowing you to type Python code directly and see the results immediately."
      ],
      "metadata": {
        "id": "VMxGBs1pNNtA"
      }
    },
    {
      "cell_type": "markdown",
      "source": [
        "Q3) What are pre-defined keywords in Python?\n",
        "- Keywords are the words that convey a special meaning to the language interpreter. These are reserved words for special purpose and must not be used as normal identifiers like variables, functions etc. Keywords are used to define the syntax of the coding and every keyword in Python has some purpose associated with it. There are 35 keywords in Python. All these keywords in Python are written in lowercase except True and False. To display the list of keywords in Python, following piece of code can be executed:"
      ],
      "metadata": {
        "id": "Yv76Y2G0qRIb"
      }
    },
    {
      "cell_type": "code",
      "source": [
        "# Displaying all the Keywords in Python\n",
        "\n",
        "help(\"keywords\")"
      ],
      "metadata": {
        "colab": {
          "base_uri": "https://localhost:8080/"
        },
        "id": "L3_u3CAQy1tb",
        "outputId": "fe3e47f9-47d4-4596-97c6-c7df52fa168a"
      },
      "execution_count": null,
      "outputs": [
        {
          "output_type": "stream",
          "name": "stdout",
          "text": [
            "\n",
            "Here is a list of the Python keywords.  Enter any keyword to get more help.\n",
            "\n",
            "False               class               from                or\n",
            "None                continue            global              pass\n",
            "True                def                 if                  raise\n",
            "and                 del                 import              return\n",
            "as                  elif                in                  try\n",
            "assert              else                is                  while\n",
            "async               except              lambda              with\n",
            "await               finally             nonlocal            yield\n",
            "break               for                 not                 \n",
            "\n"
          ]
        }
      ]
    },
    {
      "cell_type": "markdown",
      "source": [
        "Q4) Can Keywords be used as variable names?\n",
        "- No, keywords cannot be used as variable names. Keywords in python are some pre-defined and reserved words that have special meanings. Keywords in python cannot be used as an identifier, function or a variable name. If used as a variable name, python interpreter will give an error regarding the same."
      ],
      "metadata": {
        "id": "EKgDRMHrzNLU"
      }
    },
    {
      "cell_type": "markdown",
      "source": [
        "Q5) What is mutability in Python?\n",
        "- Every variable in Python holds an instance of an object. There are two types of objects in Python i.e Mutable and Immutable objects. Mutability refers to whether the internal state of an object can be changed after it is been created.\n",
        "\n",
        "**Mutable objects:**\n",
        "- Mutable objects are objects whose contents can be changed after it is created without changing the object's identity(memory address). We can add, remove or change elements inside that object without changing the address of that particular object. These objects are useful when we need to store and update data frequently. Some mutable objects in Python are lists, sets and dictionaries."
      ],
      "metadata": {
        "id": "6LpbPHQJ1T5Y"
      }
    },
    {
      "cell_type": "code",
      "source": [
        "# In the below code we can see the mutability of list. List elements can be modified any number of times during runtime.\n",
        "\n",
        "a= [1,2,3,5]\n",
        "print(a)  # printing old list\n",
        "a[3]=4  # modification code\n",
        "print(a)  # printing the new list after modification\n",
        "\n",
        "# Same can be done with sets and dictionaries.\n"
      ],
      "metadata": {
        "id": "4prC3XYr08zm",
        "colab": {
          "base_uri": "https://localhost:8080/"
        },
        "outputId": "93d69905-17da-44f9-d19e-9a53b72e5c78"
      },
      "execution_count": null,
      "outputs": [
        {
          "output_type": "stream",
          "name": "stdout",
          "text": [
            "[1, 2, 3, 5]\n",
            "[1, 2, 3, 4]\n"
          ]
        }
      ]
    },
    {
      "cell_type": "markdown",
      "source": [
        "**Immutable objects:**\n",
        "- Immutable objects are objects whose contents cannot be changed after it is created. We cannot add, remove or change any elements inside immutable objects. Once created, the value of these objects is permanent. Some immutable objects in Python are tuple, strings and numbers like float and interger."
      ],
      "metadata": {
        "id": "ZMJ8Vdx_l6lo"
      }
    },
    {
      "cell_type": "code",
      "source": [
        "# In the below code we can see the immutability of the tuple.\n",
        "\n",
        "a = (1,2,3,5)\n",
        "print(a)  # printing old tuple\n",
        "a[3]=4   # error occurs here, because tuple is not mutable\n",
        "print(a)"
      ],
      "metadata": {
        "collapsed": true,
        "id": "qYDJD0O1nrV1"
      },
      "execution_count": null,
      "outputs": []
    },
    {
      "cell_type": "markdown",
      "source": [
        "Q6) Why are lists mutable, but tuples are immutable ?\n",
        "- Lists are mutable objects in Python. While declaring lists in Python, we use square brackets and it can store any data inside it. Lists have the capability to store heterogeneous data inside it. Lists are mutable because lists are designed to store dynamic collection of items. Lists store references to objects in a dynamic array, which allows modification of contents inside it. Lists are meant to store collection of items that may change. Use cases like to-do lists, user inputs, search results all require frequent changes.\n",
        "\n",
        "- On the other hand, Tuples are immutable objects in Python. While declaring tuples in python, we use round brackets and it can also store heterogeneous data inside it. Tuples are immutable because, they are designed for fixed collection of items that doesn't require further modifications or should not be changed accidentally. Immutability ensures that the data remains consistent and protected throughout the program."
      ],
      "metadata": {
        "id": "D0c30E51oaZC"
      }
    },
    {
      "cell_type": "markdown",
      "source": [
        "Q7) What is the difference between \"==\" and \"is\" operators in Python?\n",
        "- \"==\" operator in Python is called equality operator, which is used for comparing values of two objects and returns True if the contents are matched.\n",
        "It returns False if the contents are not matched. Equality operator doesn't check if the two variables refer to the same object in the memory or not.\n",
        "- \"is\" operator in python is called identity operator, which is used to check whether two variables refer to the exact same object in the memory or not. It doesn't compares the values inside the object. It returns True only if both the variables point to the same memory location.\n"
      ],
      "metadata": {
        "id": "JinXCoymt3-7"
      }
    },
    {
      "cell_type": "code",
      "source": [
        "# The following program shows the application of \"==\" operator and \"is\" operator.\n",
        "\n",
        "a=[1,2,3,4]\n",
        "b=[1,2,3,4]\n",
        "c=a\n",
        "\n",
        "print(a==b)   # this code will print True, because a and b are lists having same content inside them.\n",
        "print(a is b) # this code will print False, because eventhough the content is same in both their location in the memory are different.\n",
        "print(c is a) # this code will print True, because c is refered to a, means they point the same location in the memory.\n",
        "print(c==a)  # this code will print True, because c and a are lists having same content inside them."
      ],
      "metadata": {
        "colab": {
          "base_uri": "https://localhost:8080/"
        },
        "id": "9Go0qjDvwYDP",
        "outputId": "96cde7a3-c416-48ae-c423-dfc52334960d"
      },
      "execution_count": null,
      "outputs": [
        {
          "output_type": "stream",
          "name": "stdout",
          "text": [
            "True\n",
            "False\n",
            "True\n",
            "True\n"
          ]
        }
      ]
    },
    {
      "cell_type": "markdown",
      "source": [
        "Q8) What are logical operators in Python?\n",
        "- Logical operators in Python are used to combine conditional statements, allowing us to perform operations based on multiple conditions. These operators evaluate expressions and return True and False based on the logic involved.\n",
        "These operators are used with conditional statements, such as if, while loops , to control the flow of control based on certain conditions. There are three logical operators in Python:\n",
        "  - \"and\" operator: The \"and\" operator checks two conditions. It returns True if both the conditions evaluates to True. if either condition is False, the whole expression becomes False."
      ],
      "metadata": {
        "id": "aakOUQV5xlx1"
      }
    },
    {
      "cell_type": "code",
      "source": [
        "print(5>2 and 5>3)\n",
        "print(5>2 and 5<3)\n",
        "print(5<2 and 5<3)"
      ],
      "metadata": {
        "colab": {
          "base_uri": "https://localhost:8080/"
        },
        "id": "mv2pv1jS1ck3",
        "outputId": "ab0269c6-2859-4f42-a377-71a1d095228d"
      },
      "execution_count": null,
      "outputs": [
        {
          "output_type": "stream",
          "name": "stdout",
          "text": [
            "True\n",
            "False\n",
            "False\n"
          ]
        }
      ]
    },
    {
      "cell_type": "markdown",
      "source": [
        "- \"or\" operator\": The \"or\" operator also checks two conditions. It returns True if atleast one condition is True. It only returns False if both conditions are False."
      ],
      "metadata": {
        "id": "J3W5L7Q919CU"
      }
    },
    {
      "cell_type": "code",
      "source": [
        "print(5>2 or 5>3)\n",
        "print(5>2 or 5<3)\n",
        "print(5<2 or 5<3)"
      ],
      "metadata": {
        "colab": {
          "base_uri": "https://localhost:8080/"
        },
        "id": "hRSQaJdT18sc",
        "outputId": "18af04cf-72f7-4d8f-d7b7-d63d89b8e5cb"
      },
      "execution_count": null,
      "outputs": [
        {
          "output_type": "stream",
          "name": "stdout",
          "text": [
            "True\n",
            "True\n",
            "False\n"
          ]
        }
      ]
    },
    {
      "cell_type": "markdown",
      "source": [
        "- \"not\" operator: The \"not\" operator is used to reverse the result of a conditon. If a condition is True, \"not\" operator makes it False and vice versa."
      ],
      "metadata": {
        "id": "BqmqJ_uR2kCU"
      }
    },
    {
      "cell_type": "code",
      "source": [
        "print(not False)\n",
        "print(not True)"
      ],
      "metadata": {
        "colab": {
          "base_uri": "https://localhost:8080/"
        },
        "id": "PsPfnV8410DF",
        "outputId": "7fc1edd3-29b8-4c6d-ae64-258b29afeed4"
      },
      "execution_count": null,
      "outputs": [
        {
          "output_type": "stream",
          "name": "stdout",
          "text": [
            "True\n",
            "False\n"
          ]
        }
      ]
    },
    {
      "cell_type": "markdown",
      "source": [
        "Q9) What is type casting in python?\n",
        "- Type casting also referred to as Type conversion, is the process of changing the data type of a variable from one type to another. Often, when working with variables, we need to convert one data type to another to perform operations, store results, or meet specific requirements. In Python, user doesn't have to declare the variable type, because python is a dynamically typed language means it automatically declare the variable type."
      ],
      "metadata": {
        "id": "bmgOSPu92kWy"
      }
    },
    {
      "cell_type": "markdown",
      "source": [
        "Q10) What is the difference between implicit and explicit type casting?\n",
        "- **Implicit Type Casting:**\n",
        "  \n",
        "  Implicit type casting is when Python automatically converts one data type to another during an operation, without the intervention of the programmer. This usually happens when performing operations between different data types, where python promotes the lower data type to higher data type to avoid data loss. This type conversion is done by the Python interpreter."
      ],
      "metadata": {
        "id": "FoncDUWx9O6x"
      }
    },
    {
      "cell_type": "code",
      "source": [
        "# The below piece of code demonstrates implicit type casting\n",
        "\n",
        "a=5     # a is variable of int type.\n",
        "b=10.5  # b is variable of float type.\n",
        "c=a+b   # c will be variable of float type, a is converted to float type for addition to happen.\n",
        "print(c)\n",
        "print(type(c))"
      ],
      "metadata": {
        "colab": {
          "base_uri": "https://localhost:8080/"
        },
        "id": "GEokYiV0Axw4",
        "outputId": "aad15916-eea3-4e4a-af6f-7db6ed7b2703"
      },
      "execution_count": null,
      "outputs": [
        {
          "output_type": "stream",
          "name": "stdout",
          "text": [
            "15.5\n",
            "<class 'float'>\n"
          ]
        }
      ]
    },
    {
      "cell_type": "markdown",
      "source": [
        "- Explicit Type Casting:\n",
        "\n",
        "  Explicit type casting happens when the user manually converts one data type to another using python built-in functions. This conversion is done by the programmer and it is done when Python cannot automatically convert between the data types. This is done when you need to change the type of variable to perform certain operations or avoid type errors. Python provides several functions for explicit type conversion:\n",
        "  - int() : Convert a value to an integer.\n",
        "  - float() : Convert a value to a floating-point number.\n",
        "  - str() : Convert a value to a string.\n",
        "  - bool() : Convert a value to a boolean."
      ],
      "metadata": {
        "id": "YSk4Rb6xBrBR"
      }
    },
    {
      "cell_type": "code",
      "source": [
        "# The below piece of code demonstrates explicit type casting.\n",
        "\n",
        "num= \"50\"           # num is a variable of string type.\n",
        "number= int(num)    # num is converted from string to integer using int(), explicit type casting happens here.\n",
        "print(number+50)  # output is 100\n"
      ],
      "metadata": {
        "id": "EDFgJHvSBBR3",
        "colab": {
          "base_uri": "https://localhost:8080/"
        },
        "outputId": "96360952-ef83-4dd3-fbe7-a29926eaa2df"
      },
      "execution_count": null,
      "outputs": [
        {
          "output_type": "stream",
          "name": "stdout",
          "text": [
            "100\n"
          ]
        }
      ]
    },
    {
      "cell_type": "markdown",
      "source": [
        "Q11) What is the purpose of conditional statements in Python?\n",
        "- Conditonal statements in Python allow a program to evaluate conditions and make decisions based on whether those conditions are True or False. These statements help control the flow of execution, allowing the program to execute different block of code depending on the input or situation. This means that certain blocks of code will only run if specific conditions are met, making the program more dynamic, logical, and intelligent. Types of conditional statements in python are:\n",
        "  - **\"If\" conditional statement:** If statement is the simplest form of conditional statement. It executes a block of code if the given condition is true. Following code shows the use of if statement:\n"
      ],
      "metadata": {
        "id": "wQYDKsp9KGM4"
      }
    },
    {
      "cell_type": "code",
      "source": [
        "age1 = 20\n",
        "\n",
        "if age1>18:           # executes if the condition is True\n",
        "  print(\"You are eligible to vote!\")"
      ],
      "metadata": {
        "colab": {
          "base_uri": "https://localhost:8080/"
        },
        "id": "27DglYcYgX6c",
        "outputId": "81a9f2c7-e445-43c0-c300-438a98843c83"
      },
      "execution_count": null,
      "outputs": [
        {
          "output_type": "stream",
          "name": "stdout",
          "text": [
            "You are eligible to vote!\n"
          ]
        }
      ]
    },
    {
      "cell_type": "markdown",
      "source": [
        "- \"Else\" conditional statement: Else conditional statement allows us to specify a block of code that will execute if the conditions associated with if or elif statement evaluates to False."
      ],
      "metadata": {
        "id": "GTxoOqVmiymq"
      }
    },
    {
      "cell_type": "markdown",
      "source": [
        "- \"Elif\" conditional statement: Elif statement in Python stands for \"else-if\". It allows us to check multiple conditions, providing a way to execute different blocks of code based on which condition is true. Following code shows the use of elif and else statement:"
      ],
      "metadata": {
        "id": "JA-Z0mv2gs_9"
      }
    },
    {
      "cell_type": "code",
      "source": [
        "numeric= int(input(\"Enter any number:\"))\n",
        "\n",
        "if numeric>0:\n",
        "  print('The number is positive!')\n",
        "elif numeric<0:                    # elif is executed if the conditon of \"if\" becomes False.\n",
        "  print(\"The numbers is negative!\")\n",
        "else:                              # else is executed if both the conditions in \"if\" and \"elif\" becomes False.\n",
        "  print(\"The number is zero!\")"
      ],
      "metadata": {
        "colab": {
          "base_uri": "https://localhost:8080/"
        },
        "id": "5mRAykYxigzH",
        "outputId": "6d7b5d7d-722b-4ca4-cbe3-732d601eec54"
      },
      "execution_count": null,
      "outputs": [
        {
          "output_type": "stream",
          "name": "stdout",
          "text": [
            "Enter any number:67\n",
            "The number is positive!\n"
          ]
        }
      ]
    },
    {
      "cell_type": "markdown",
      "source": [
        "- Nested If-else conditional statement: This conditional statement can be used to check conditions within conditions. Nested If-else means an If-else statement inside another if statement. Following code shows the use of nested if-else statement:"
      ],
      "metadata": {
        "id": "i4mDm8LZlITN"
      }
    },
    {
      "cell_type": "code",
      "source": [
        "years= 20\n",
        "voterid = False\n",
        "\n",
        "if years>18:\n",
        "  if voterid:\n",
        "    print(\"You are eligible to vote!\")\n",
        "  else:\n",
        "    print(\"You need a voter id to vote!\")\n",
        "else:\n",
        "  print('You are not eligible to vote!')\n"
      ],
      "metadata": {
        "colab": {
          "base_uri": "https://localhost:8080/"
        },
        "id": "c681OXrUmNl1",
        "outputId": "99a9a5aa-985b-476f-d6f5-a11e7df3a843"
      },
      "execution_count": null,
      "outputs": [
        {
          "output_type": "stream",
          "name": "stdout",
          "text": [
            "You need a voter id to vote!\n"
          ]
        }
      ]
    },
    {
      "cell_type": "markdown",
      "source": [
        "Q12) How does the elif statement work?\n",
        "- In real world, decisons are made based on conditions, and similarly, in programming, we often need to perform different actions based on specific conditions. Conditional statements allows us to make decisions, help us to control the flow of execution by running certain blocks of code only when specific conditions are met. This makes programs smarter, more dynamic, and responsive to various situations. The elif statement in Pyhton allows us to check multiple conditions one by one. Python first checks the \"If\" condition. If it is True, it runs the block inside the it and skip the rest. But if it evaluates to False, it comes to the elif statement. We can multiple elif statements in a single program.\n",
        "\n",
        "Following program shows the use of Elif statement:\n"
      ],
      "metadata": {
        "id": "a2mA_AhKkeaf"
      }
    },
    {
      "cell_type": "code",
      "source": [
        "# This programs decides the grade of student according to his marks.\n",
        "\n",
        "marks=int(input(\"Enter the marks:\"))\\\n",
        "\n",
        "if marks>=90:\n",
        "  print(\"You got A grade!\")\n",
        "elif marks>=80:                 # executed if the above \"if\" evaluates to False.\n",
        "  print(\"You got B grade!\")\n",
        "elif marks>=70:                # executed if the above \"elif\" evaluates to False.\n",
        "  print(\"You got C grade!\")\n",
        "elif marks>=60:               # executed if the above \"elif\" evaluates to False.\n",
        "  print(\"You got D grade!\")\n",
        "else:                        # executed when all of the above statements evaluates to False.\n",
        "  print(\"You got E grade!\")"
      ],
      "metadata": {
        "colab": {
          "base_uri": "https://localhost:8080/"
        },
        "id": "SB8aj_tWL-XQ",
        "outputId": "01cbe8fd-6eea-4aca-edd7-0049dffff6be"
      },
      "execution_count": null,
      "outputs": [
        {
          "output_type": "stream",
          "name": "stdout",
          "text": [
            "Enter the marks:34\n",
            "You got E grade!\n"
          ]
        }
      ]
    },
    {
      "cell_type": "markdown",
      "source": [
        "Q13) What is the difference between for and while loops?\n",
        "- **For loop:** The For loop of Python is designed to process the items of any sequence, such as a list or a string, one by one. For loop used in a program when we know in advance how many times we want to execute a block of code. A For loop in Python is processed as:\n",
        "  - The loop variable is assigned the first value in the sequence.\n",
        "  - All the statements in the body of for loop are executed with assigned value of loop variable.\n",
        "  - the loop variable is assigned the next value in the sequence and loop-body is executed with the new value of loop-variable.\n",
        "  - this continues until all values in the sequences are processed.\n",
        "\n",
        " Below is the demonstration of for loop:\n"
      ],
      "metadata": {
        "id": "ujJtuwGrNICT"
      }
    },
    {
      "cell_type": "code",
      "source": [
        "for i in range(1,11):           # initialisation and updation of the loop variable happens here.\n",
        "  print(i,end=\" \")"
      ],
      "metadata": {
        "colab": {
          "base_uri": "https://localhost:8080/"
        },
        "id": "7k-oKtQUT17F",
        "outputId": "fc010a78-c3a0-4334-8289-7b11a5ae8ca5"
      },
      "execution_count": null,
      "outputs": [
        {
          "output_type": "stream",
          "name": "stdout",
          "text": [
            "1 2 3 4 5 6 7 8 9 10 "
          ]
        }
      ]
    },
    {
      "cell_type": "markdown",
      "source": [
        "- **While loop:** The while loop is a conditional loop that will repeat the instructions within itself as long as a condition remains True. While loop used when you want to repeat a block as long as a condition is True, and we don't necessarily know how many times in advance. A while loop in Python is processed as:\n",
        "  - before entering a while loop, its loop variable must be initialized.\n",
        "  - the logical or conditional expression in the while loop is evaluated.\n",
        "  - if the result of the condition is True, all the statements inside the loop gets executed.\n",
        "  - the update expression is placed inside the loop, which change the value of the loop variable.\n",
        "  - this continues until the condition of the While loop becomes False.\n",
        "\n",
        "  Below is the demonstration of while loop:"
      ],
      "metadata": {
        "id": "tCw7M1aeT_Ug"
      }
    },
    {
      "cell_type": "code",
      "source": [
        "a=1    # loop variable is initialized\n",
        "\n",
        "while a<11:\n",
        "  print(a,end=\" \")\n",
        "  a=a+1     # update expression"
      ],
      "metadata": {
        "colab": {
          "base_uri": "https://localhost:8080/"
        },
        "id": "xNimwmUtVt9y",
        "outputId": "1cc68d95-3c56-4d56-ba7c-04b444643e29"
      },
      "execution_count": null,
      "outputs": [
        {
          "output_type": "stream",
          "name": "stdout",
          "text": [
            "1 2 3 4 5 6 7 8 9 10 "
          ]
        }
      ]
    },
    {
      "cell_type": "markdown",
      "source": [
        "Q14) Describe a scenario where a while loop is more suitable than a for loop.\n",
        "- For loops are best suited when we know the number of iterations we have to do. But while loop is best suited when we don't know the number of iterations in advance. This kind of indefinite repetition is better handled by while.\n",
        "For eg: A program is designed that asks a user to enter the correct password to access. Here we don't know how many times the user might enter the wrong password, so we want to keep asking until he enter the right password. So here we don't know the number of times he will enter the wrong password, in short we don't know the number of iterations. While loop handles this situation perfectly as compared to for loop.\n"
      ],
      "metadata": {
        "id": "PnczrPK6WRX2"
      }
    },
    {
      "cell_type": "markdown",
      "source": [
        "# Python Basics Practical Questions"
      ],
      "metadata": {
        "id": "fON7jTqYu97N"
      }
    },
    {
      "cell_type": "code",
      "source": [
        "# Q1) Write a Python program to print \"Hello, World!\".\n",
        "\n",
        "print(\"Hello, World!\")"
      ],
      "metadata": {
        "colab": {
          "base_uri": "https://localhost:8080/"
        },
        "id": "2J_QBhRreM7B",
        "outputId": "e4ae2011-9615-42fc-a037-d07359b12ae1"
      },
      "execution_count": null,
      "outputs": [
        {
          "output_type": "stream",
          "name": "stdout",
          "text": [
            "Hello, World!\n"
          ]
        }
      ]
    },
    {
      "cell_type": "code",
      "source": [
        "# Q2) Write a Python program that displays your name and age.\n",
        "# In this program I used input() function to input name and age and then displayed it using print() function.\n",
        "\n",
        "name=input(\"Enter your name:\")\n",
        "age=int(input(\"Enter your age:\"))\n",
        "print(\"Name:\",name,\"\\nAge:\",age)"
      ],
      "metadata": {
        "colab": {
          "base_uri": "https://localhost:8080/"
        },
        "id": "-n3I1nW_ewnR",
        "outputId": "69082458-2a8e-4cb4-cd45-89bb2df37735"
      },
      "execution_count": null,
      "outputs": [
        {
          "output_type": "stream",
          "name": "stdout",
          "text": [
            "Enter your name:Balu Mahesh T V\n",
            "Enter your age:26\n",
            "Name: Balu Mahesh T V \n",
            "Age: 26\n"
          ]
        }
      ]
    },
    {
      "cell_type": "code",
      "source": [
        "# Q3) Write code to print all the pre-defined keywords in Python using the keyword library.\n",
        "# In this program I used for loop to iterate every item in the keyword.kwlist and displayed them.\n",
        "\n",
        "import keyword\n",
        "\n",
        "for item in keyword.kwlist:\n",
        "  print(item,end=\"\\n\")"
      ],
      "metadata": {
        "colab": {
          "base_uri": "https://localhost:8080/"
        },
        "id": "g7uNXD6AgayE",
        "outputId": "79d6a4f8-1cce-47f2-bc22-b11e14b55cbf"
      },
      "execution_count": null,
      "outputs": [
        {
          "output_type": "stream",
          "name": "stdout",
          "text": [
            "False\n",
            "None\n",
            "True\n",
            "and\n",
            "as\n",
            "assert\n",
            "async\n",
            "await\n",
            "break\n",
            "class\n",
            "continue\n",
            "def\n",
            "del\n",
            "elif\n",
            "else\n",
            "except\n",
            "finally\n",
            "for\n",
            "from\n",
            "global\n",
            "if\n",
            "import\n",
            "in\n",
            "is\n",
            "lambda\n",
            "nonlocal\n",
            "not\n",
            "or\n",
            "pass\n",
            "raise\n",
            "return\n",
            "try\n",
            "while\n",
            "with\n",
            "yield\n"
          ]
        }
      ]
    },
    {
      "cell_type": "code",
      "source": [
        "# Q4) Write a program that checks if a given word is a Python keyword.\n",
        "# In this program I used input() function to input any word from the user and checked if the given word is a Python keyword or not using If statement.\n",
        "\n",
        "import keyword\n",
        "\n",
        "word= input(\"Enter a word to check if it is a python keyword or not:\")\n",
        "if word in keyword.kwlist:\n",
        "  print(f\"{word} is a Python keyword\")\n",
        "else:\n",
        "  print(f\"{word} is not a Python keyword\")"
      ],
      "metadata": {
        "id": "0U7Zm789w9NR",
        "colab": {
          "base_uri": "https://localhost:8080/"
        },
        "outputId": "8a81d56c-6c86-4e54-d2c0-cc8220c6d16a"
      },
      "execution_count": null,
      "outputs": [
        {
          "output_type": "stream",
          "name": "stdout",
          "text": [
            "Enter a word to check if it is a python keyword or not:break\n",
            "break is a Python keyword\n"
          ]
        }
      ]
    },
    {
      "cell_type": "code",
      "source": [
        "# Q5) Create a list and tuple in python, and demonstrate how attempting to change an element works differently for each.\n",
        "\n",
        "a=[10,20,30,50]              # a is a list\n",
        "b=(10,20,30,50)              # b is a tuple\n",
        "\n",
        "a.insert(3,40)              # modifying elements inside list, because lists are mutable\n",
        "print(\"New modified list:\",a)           # displaying new list\n",
        "\n",
        "try:\n",
        "  b[3]=40                # trying to modify a tuple, which are immutable. A Typeerror will occur stating that tuple doesn't support item assignment.\n",
        "except TypeError as error:\n",
        "  print(error)\n",
        "  print(\"New Tuple\",b)\n"
      ],
      "metadata": {
        "id": "JIpex9aKzR7Z",
        "colab": {
          "base_uri": "https://localhost:8080/"
        },
        "outputId": "2b0b1b56-ec04-4abc-a9e0-8f074b5d2370"
      },
      "execution_count": null,
      "outputs": [
        {
          "output_type": "stream",
          "name": "stdout",
          "text": [
            "New modified list: [10, 20, 30, 40, 50]\n",
            "'tuple' object does not support item assignment\n",
            "New Tuple (10, 20, 30, 50)\n"
          ]
        }
      ]
    },
    {
      "cell_type": "code",
      "source": [
        "# Q6) Write a function to demonstrate the behaviour of mutable and immutable arguments.\n",
        "\n",
        "def modify(my_list,my_tuple):\n",
        "  print(\"List before modification:\",my_list)\n",
        "  print(\"Tuple before modification:\",my_tuple)\n",
        "\n",
        "  my_list.append(6)\n",
        "\n",
        "  my_tuple=my_tuple+(6,7)\n",
        "\n",
        "  print(\"List after modification:\",my_list)\n",
        "  print(\"Tuple after modification:\",my_tuple)\n",
        "\n",
        "a=[1,2,3,4,5]\n",
        "b=(1,2,3,4,5)\n",
        "\n",
        "modify(a,b)\n",
        "\n",
        "print(\"Final list:\",a)      # List elements will be altered.\n",
        "print(\"Final tuple:\",b)     # Tuple elements remains unchanged.\n"
      ],
      "metadata": {
        "id": "tN5xjVE7zQWv",
        "colab": {
          "base_uri": "https://localhost:8080/"
        },
        "outputId": "34e74a1a-7c2c-4926-b4fc-9d13b40eb581"
      },
      "execution_count": null,
      "outputs": [
        {
          "output_type": "stream",
          "name": "stdout",
          "text": [
            "List before modification: [1, 2, 3, 4, 5]\n",
            "Tuple before modification: (1, 2, 3, 4, 5)\n",
            "List after modification: [1, 2, 3, 4, 5, 6]\n",
            "Tuple after modification: (1, 2, 3, 4, 5, 6, 7)\n",
            "Final list: [1, 2, 3, 4, 5, 6]\n",
            "Final tuple: (1, 2, 3, 4, 5)\n"
          ]
        }
      ]
    },
    {
      "cell_type": "code",
      "source": [
        "# Q7) Write a program that performs basic arithmetic operations on two user-input numbers.\n",
        "\n",
        "def add(a,b):\n",
        "  return a+b\n",
        "\n",
        "def sub(a,b):\n",
        "  return a-b\n",
        "\n",
        "def mul(a,b):\n",
        "  return a*b\n",
        "\n",
        "def div(a,b):\n",
        "  if b==0:\n",
        "    return \"Cannot divide by zero!\"\n",
        "  return a/b\n",
        "\n",
        "def floordiv(a,b):\n",
        "  if b==0:\n",
        "    return \"Cannot divide by zero!\"\n",
        "  return a//b\n",
        "\n",
        "def mod(a,b):\n",
        "  if b==0:\n",
        "    return \"Cannot divide by zero!\"\n",
        "  return a%b\n",
        "\n",
        "def exp(a,b):\n",
        "  return a**b\n",
        "\n",
        "num1= int(input(\"Enter first number:\"))\n",
        "num2= int(input(\"Enter second number:\"))\n",
        "\n",
        "print(\"Addition:\",add(num1,num2))\n",
        "print(\"Subtraction:\",sub(num1,num2))\n",
        "print(\"Multiplication:\",mul(num1,num2))\n",
        "print(\"Division:\",div(num1,num2))\n",
        "print(\"Floor Division:\",floordiv(num1,num2))\n",
        "print(\"Modulus:\",mod(num1,num2))\n",
        "print(\"Exponent:\",exp(num1,num2))"
      ],
      "metadata": {
        "colab": {
          "base_uri": "https://localhost:8080/"
        },
        "id": "RUmQxXDCzOiG",
        "outputId": "f2571471-e828-4e23-d331-bcb7b6f8bca4"
      },
      "execution_count": null,
      "outputs": [
        {
          "output_type": "stream",
          "name": "stdout",
          "text": [
            "Enter first number:24\n",
            "Enter second number:5\n",
            "Addition: 29\n",
            "Subtraction: 19\n",
            "Multiplication: 120\n",
            "Division: 4.8\n",
            "Floor Division: 4\n",
            "Modulus: 4\n",
            "Exponent: 7962624\n"
          ]
        }
      ]
    },
    {
      "cell_type": "code",
      "source": [
        "# Q8) Write a program to demonstrate the use of logical operators.\n",
        "# The below program is made for giving discount to a customer.\n",
        "# If the customer is a student and below age of 18, the discount will be 10%.\n",
        "# If the customer is a either a student or below the age of 18, the discount will be 5%.\n",
        "# If he is neither a student or below the age of 18, no discount will be given.\n",
        "\n",
        "is_student= input(\"Are you student(Y/N):\")\n",
        "age= int(input(\"Enter your age:\"))\n",
        "price=int(input(\"Enter the price of the article:\"))\n",
        "if age<18 and is_student==\"Y\":                 # use of \"and\" operator, returns True if both the conditions are True.\n",
        "  print(\"You will get 10% discount!\")\n",
        "  print(\"Final price: Rs\",0.9*price)\n",
        "elif age<18 or is_student==\"Y\":                # use of \"or\" operator, returns True if any one of the condition is True.\n",
        "  print(\"You will get 5% discount!\")\n",
        "  print(\"Final price: Rs\",0.95*price)\n",
        "elif not (age<18 or is_student==\"Y\"):          # use of \"not\" operator, which inverts True to False and False to True.\n",
        "  print(\"Sorry, You are not eligible for discount!\")\n",
        "  print(\"Final price: Rs\",price)\n",
        "else:\n",
        "  print(\"Please enter a valid input!\")"
      ],
      "metadata": {
        "id": "yL1lSETk3XiB",
        "colab": {
          "base_uri": "https://localhost:8080/"
        },
        "outputId": "bab1679f-00b4-4f46-c3cf-8ee3e973daef"
      },
      "execution_count": null,
      "outputs": [
        {
          "output_type": "stream",
          "name": "stdout",
          "text": [
            "Are you student(Y/N):N\n",
            "Enter your age:22\n",
            "Enter the price of the article:100\n",
            "Sorry, You are not eligible for discount!\n",
            "Final price: Rs 100\n"
          ]
        }
      ]
    },
    {
      "cell_type": "code",
      "source": [
        "# Q9) Write a Python program to convert user input from string to integer, float and boolean types.\n",
        "\n",
        "sample= input(\"Enter anything:\")\n",
        "print(int(sample))\n",
        "print(float(sample))\n",
        "print(bool(sample))"
      ],
      "metadata": {
        "id": "R3MWtg0-zNWb",
        "colab": {
          "base_uri": "https://localhost:8080/"
        },
        "outputId": "10b68a71-062a-45c4-c1cf-eab9b4711528"
      },
      "execution_count": null,
      "outputs": [
        {
          "output_type": "stream",
          "name": "stdout",
          "text": [
            "Enter anything:223\n",
            "223\n",
            "223.0\n",
            "True\n"
          ]
        }
      ]
    },
    {
      "cell_type": "code",
      "source": [
        "# Q10) Write a code to demonstrate type casting with list elements.\n",
        "# In this program, type casting is done with the different elements of different data types inside the list.\n",
        "\n",
        "org = [1, 2.5, \"3\", True, False]\n",
        "\n",
        "int_list=[int(x) for x in org]     # converting every element to integer type.\n",
        "float_list=[float(x) for x in org]  # converting every element to float type.\n",
        "string_list=[str(x) for x in org]   # converting every element to string type.\n",
        "boolean_list=[bool(x) for x in org]  # converting every element to boolean type.\n",
        "print(\"Integer list:\",int_list)\n",
        "print(\"Float list:\",float_list)\n",
        "print(\"String list:\",string_list)\n",
        "print(\"Boolean list:\",boolean_list)"
      ],
      "metadata": {
        "colab": {
          "base_uri": "https://localhost:8080/"
        },
        "id": "r-nJeoT-MQhw",
        "outputId": "f12e61b2-40ea-4bc6-f4c8-88d90e4a8a81"
      },
      "execution_count": null,
      "outputs": [
        {
          "output_type": "stream",
          "name": "stdout",
          "text": [
            "Integer list: [1, 2, 3, 1, 0]\n",
            "Float list: [1.0, 2.5, 3.0, 1.0, 0.0]\n",
            "String list: ['1', '2.5', '3', 'True', 'False']\n",
            "Boolean list: [True, True, True, True, False]\n"
          ]
        }
      ]
    },
    {
      "cell_type": "code",
      "source": [
        "# Q11) Write a program that checks if a number is positive, negative, or zero.\n",
        "\n",
        "num= int(input(\"Enter a number\"))\n",
        "if num>0:\n",
        "  print(\"number is positive\")\n",
        "elif num<0:\n",
        "  print(\"number is negative\")\n",
        "else:\n",
        "  print(\"number is zero\")"
      ],
      "metadata": {
        "id": "Nc_WzYOmy3U-",
        "colab": {
          "base_uri": "https://localhost:8080/"
        },
        "outputId": "685f103b-f358-486e-dffb-4d66b46c9071"
      },
      "execution_count": null,
      "outputs": [
        {
          "output_type": "stream",
          "name": "stdout",
          "text": [
            "Enter a number6\n",
            "number is positive\n"
          ]
        }
      ]
    },
    {
      "cell_type": "code",
      "source": [
        "# Q12) Wrie a for loop to print numbers from 1 to 10.\n",
        "\n",
        "for i in range(1,11):\n",
        "  print(i,end=\" \")"
      ],
      "metadata": {
        "id": "68iU2RGl3uGR",
        "colab": {
          "base_uri": "https://localhost:8080/"
        },
        "outputId": "f789efde-5c3f-47b6-8eea-3f435b0f349d"
      },
      "execution_count": null,
      "outputs": [
        {
          "output_type": "stream",
          "name": "stdout",
          "text": [
            "1 2 3 4 5 6 7 8 9 10 "
          ]
        }
      ]
    },
    {
      "cell_type": "code",
      "source": [
        "# Q13) Write a python program to find the sum of all the even numbers between 1 and 50.\n",
        "\n",
        "sum=0\n",
        "for i in range(1,51):\n",
        "  if i%2==0:\n",
        "    sum=sum+i\n",
        "  else:\n",
        "    continue\n",
        "print(\"Sum of all even numbers between 1 and 50 are:\",sum)\n"
      ],
      "metadata": {
        "id": "IkZlk3Re3uVF",
        "colab": {
          "base_uri": "https://localhost:8080/"
        },
        "outputId": "e7bf3e91-009b-44f8-c020-96eb777fc734"
      },
      "execution_count": null,
      "outputs": [
        {
          "output_type": "stream",
          "name": "stdout",
          "text": [
            "Sum: 650\n"
          ]
        }
      ]
    },
    {
      "cell_type": "code",
      "source": [
        "# Q14) Write a program to reverse a string using while loop.\n",
        "\n",
        "word= input(\"Enter a string you want to reverse:\")\n",
        "i=-1\n",
        "j=0\n",
        "rev=\"\"\n",
        "while j<len(word):\n",
        "  rev=word[i]\n",
        "  i=i-1\n",
        "  j=j+1\n",
        "  print(rev,end=\"\")"
      ],
      "metadata": {
        "id": "r9-9GojL3ud3",
        "colab": {
          "base_uri": "https://localhost:8080/"
        },
        "outputId": "420f602f-901c-467e-e3b9-40bf39bfb0d4"
      },
      "execution_count": 2,
      "outputs": [
        {
          "output_type": "stream",
          "name": "stdout",
          "text": [
            "Enter a string you want to reverse:BALU\n",
            "ULAB"
          ]
        }
      ]
    },
    {
      "cell_type": "code",
      "source": [
        "# Q15) Write a Python program to calculate the factorial of a number provided by the user using a while loop.\n",
        "\n",
        "num= int(input(\"Enter any number whose factorial you have to calculate:\"))\n",
        "pro=1\n",
        "while num>0:\n",
        "  pro=pro*num\n",
        "  num-=1\n",
        "print(\"Factorial is:\",pro)"
      ],
      "metadata": {
        "colab": {
          "base_uri": "https://localhost:8080/"
        },
        "id": "gu1KkdYL3umv",
        "outputId": "0d0260bb-fbe2-44cf-be06-c42c85794a2d"
      },
      "execution_count": null,
      "outputs": [
        {
          "output_type": "stream",
          "name": "stdout",
          "text": [
            "Enter any number whose factorial you have to calculate:4\n",
            "Factorial is: 24\n"
          ]
        }
      ]
    }
  ]
}